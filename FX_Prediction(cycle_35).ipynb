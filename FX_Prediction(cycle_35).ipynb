{
  "nbformat": 4,
  "nbformat_minor": 0,
  "metadata": {
    "colab": {
      "name": "완성본 23일 예측 형식 (cycle_35).ipynb",
      "provenance": [],
      "collapsed_sections": []
    },
    "kernelspec": {
      "name": "python3",
      "display_name": "Python 3"
    }
  },
  "cells": [
    {
      "cell_type": "code",
      "metadata": {
        "id": "zXJWUzBTWZYw",
        "colab_type": "code",
        "colab": {}
      },
      "source": [
        "import tensorflow as tf\n",
        "import numpy as np\n",
        "import pandas as pd\n",
        "import datetime\n",
        "import matplotlib.pyplot as plt"
      ],
      "execution_count": 0,
      "outputs": []
    },
    {
      "cell_type": "code",
      "metadata": {
        "id": "XzkCN77nWb1B",
        "colab_type": "code",
        "colab": {}
      },
      "source": [
        "# 랜덤에 의해 똑같은 결과를 재현하도록 시드 설정\n",
        "tf.set_random_seed(777)"
      ],
      "execution_count": 0,
      "outputs": []
    },
    {
      "cell_type": "code",
      "metadata": {
        "id": "ntbzK6o2WhAp",
        "colab_type": "code",
        "colab": {}
      },
      "source": [
        "# 데이터 전처리\n",
        "def data_standardization(x):\n",
        "    x_np = np.asarray(x)\n",
        "    return (x_np - x_np.mean()) / x_np.std()"
      ],
      "execution_count": 0,
      "outputs": []
    },
    {
      "cell_type": "code",
      "metadata": {
        "id": "Hex4WUEfWjUe",
        "colab_type": "code",
        "colab": {}
      },
      "source": [
        "# 데이터 전처리\n",
        "# 너무 작거나 너무 큰 값은 학습에 방해되므로 정규화\n",
        "# x가 양수라는 가정하에 최소값과 최대값을 이용하여 0~1사이의 값으로 변환\n",
        "# 0으로 나누는 오류 방지차원에서 분자에 1e-7 더해줌\n",
        "def min_max_scaling(x):\n",
        "    x_np = np.asarray(x)\n",
        "    return (x_np - x_np.min()) / (x_np.max() - x_np.min() + 1e-7)"
      ],
      "execution_count": 0,
      "outputs": []
    },
    {
      "cell_type": "code",
      "metadata": {
        "id": "TQg2NAXEWjWj",
        "colab_type": "code",
        "colab": {}
      },
      "source": [
        "# 데이터 전처리\n",
        "# 역정규화_정규화 이전의 값으로 되돌림\n",
        "def reverse_min_max_scaling(org_x, x):\n",
        "    org_x_np = np.asarray(org_x)\n",
        "    x_np = np.asarray(x)\n",
        "    return (x_np * (org_x_np.max() - org_x_np.min() + 1e-7)) + org_x_np.min()"
      ],
      "execution_count": 0,
      "outputs": []
    },
    {
      "cell_type": "code",
      "metadata": {
        "id": "0kknUGIQWjYe",
        "colab_type": "code",
        "colab": {}
      },
      "source": [
        "input_data_column_cnt = 13  # 입력데이터의 컬럼 개수(Variable 개수)\n",
        "output_data_column_cnt = 1 # 결과데이터의 컬럼 개수\n",
        " \n",
        "seq_length = 35            # 1개 시퀀스의 길이(시계열데이터 입력 개수)\n",
        "rnn_cell_hidden_dim = 20   # 각 셀의 (hidden)출력 크기\n",
        "forget_bias = 1.0          # 망각편향(기본값 1.0)\n",
        "num_stacked_layers = 4     # stacked LSTM layers 개수\n",
        "keep_prob = 1.0            # dropout할 때 keep할 비율\n",
        " \n",
        "epoch_num = 1000           # 에폭 횟수(학습용전체데이터를 몇 회 반복해서 학습할 것인가 입력)\n",
        "learning_rate = 0.01       # 학습률"
      ],
      "execution_count": 0,
      "outputs": []
    },
    {
      "cell_type": "code",
      "metadata": {
        "id": "nSwEJ_3vWjgz",
        "colab_type": "code",
        "outputId": "16358dc2-d0eb-4a37-9f27-32f899d207ac",
        "colab": {
          "base_uri": "https://localhost:8080/",
          "height": 391
        }
      },
      "source": [
        "currency_file_name = 'JPY_KRW_08_23.csv' # 환율 데이타셋\n",
        "encoding = 'euc-kr' # 문자 인코딩\n",
        "names = ['date','EUR-OPEN','EUR-HIGH','EUR-LOW', 'USD-OPEN','USD-HIGH','USD-LOW','GBP-OPEN','GBP-HIGH','GBP-LOW','JPY-OPEN','JPY-HIGH','JPY-LOW', 'JPY']\n",
        "raw_dataframe = pd.read_csv(currency_file_name, names=names, encoding=encoding) #판다스이용 csv파일 로딩\n",
        "raw_dataframe.info() # 데이터 정보 출력\n",
        "\n",
        "del raw_dataframe['date'] # 시간열을 제거하고 dataframe 재생성하지 않기\n",
        " \n",
        "currency_info = raw_dataframe.values[1:].astype(np.float) # \n",
        "print(\"currency_info.shape: \", currency_info.shape)\n",
        "print(\"currency_info[0]: \", currency_info[0])"
      ],
      "execution_count": 0,
      "outputs": [
        {
          "output_type": "stream",
          "text": [
            "<class 'pandas.core.frame.DataFrame'>\n",
            "RangeIndex: 5683 entries, 0 to 5682\n",
            "Data columns (total 14 columns):\n",
            "date        5683 non-null object\n",
            "EUR-OPEN    5683 non-null object\n",
            "EUR-HIGH    5683 non-null object\n",
            "EUR-LOW     5683 non-null object\n",
            "USD-OPEN    5683 non-null object\n",
            "USD-HIGH    5683 non-null object\n",
            "USD-LOW     5683 non-null object\n",
            "GBP-OPEN    5683 non-null object\n",
            "GBP-HIGH    5683 non-null object\n",
            "GBP-LOW     5683 non-null object\n",
            "JPY-OPEN    5683 non-null object\n",
            "JPY-HIGH    5683 non-null object\n",
            "JPY-LOW     5683 non-null object\n",
            "JPY         5683 non-null object\n",
            "dtypes: object(14)\n",
            "memory usage: 621.7+ KB\n",
            "currency_info.shape:  (5682, 13)\n",
            "currency_info[0]:  [1096.99   1103.15   1096.99    969.5     971.      969.5    1610.4\n",
            " 1636.87   1609.92      8.0108    8.1045    7.937     7.9938]\n"
          ],
          "name": "stdout"
        }
      ]
    },
    {
      "cell_type": "code",
      "metadata": {
        "id": "oLwEoNfqW9BH",
        "colab_type": "code",
        "outputId": "731157b9-1f06-4678-baae-67d6fd3fec1c",
        "colab": {
          "base_uri": "https://localhost:8080/",
          "height": 527
        }
      },
      "source": [
        "# 환율 정보_1 (OPEN-HIGH-LOW)\n",
        "parameter_1 = currency_info[:, :3]\n",
        "norm_parameter_1 = min_max_scaling(parameter_1) \n",
        "print(\"parameter_1.shape: \", parameter_1.shape)\n",
        "print(\"parameter_1[0]: \", parameter_1[0])\n",
        "print(\"norm_parameter_1[0]: \", norm_parameter_1[0])\n",
        "print(\"=\"*100) \n",
        "\n",
        "# 환율 정보_2 (OPEN-HIGH-LOW)\n",
        "parameter_2 = currency_info[:, 3:6]\n",
        "norm_parameter_2 = min_max_scaling(parameter_2) \n",
        "print(\"parameter_2.shape: \", parameter_2.shape)\n",
        "print(\"parameter_2[0]: \", parameter_2[0])\n",
        "print(\"norm_parameter_2[0]: \", norm_parameter_2[0])\n",
        "print(\"=\"*100)\n",
        "\n",
        "# 환율 정보_3 (OPEN-HIGH-LOW)\n",
        "parameter_3 = currency_info[:, 6:9]\n",
        "norm_parameter_3 = min_max_scaling(parameter_3) \n",
        "print(\"parameter_3.shape: \", parameter_3.shape)\n",
        "print(\"parameter_3[0]: \", parameter_3[0])\n",
        "print(\"norm_parameter_3[0]: \", norm_parameter_3[0])\n",
        "print(\"=\"*100)\n",
        "\n",
        "# 타겟 환율 정보_4 (OPEN-HIGH-LOW)\n",
        "target_price = currency_info[:, 9:-1]\n",
        "norm_target_price = min_max_scaling(target_price) \n",
        "print(\"target_price.shape: \", target_price.shape)\n",
        "print(\"target_price[0]: \", target_price[0])\n",
        "print(\"norm_target_price[0]: \", norm_target_price[0])\n",
        "print(\"=\"*100)\n",
        "\n",
        "# 타겟 (CLOSE 환율의 종가_ 다음날 오픈가)\n",
        "result = currency_info[:,-1:]\n",
        "norm_result = min_max_scaling(result) \n",
        "print(\"result.shape: \", result.shape)\n",
        "print(\"result[0]: \", result[0])\n",
        "print(\"norm_result[0]: \", norm_result[0])\n",
        "print(\"=\"*100)\n",
        "\n",
        "x = np.concatenate((norm_parameter_1, norm_parameter_2, norm_parameter_3, norm_target_price, norm_result), axis=1) # axis=1, 세로로 합친다\n",
        "print(\"x.shape: \", x.shape)\n",
        "print(\"x[0]: \", x[0])    # x의 첫 값\n",
        "print(\"x[-1]: \", x[-1])  # x의 마지막 값\n",
        "print(\"=\"*100) \n",
        " \n",
        "y = x[:, [-1]]\n",
        "\n",
        "print(\"y[0]: \",y[0])     # y의 첫 값\n",
        "print(\"y[-1]: \",y[-1])   # y의 마지막 값"
      ],
      "execution_count": 0,
      "outputs": [
        {
          "output_type": "stream",
          "text": [
            "parameter_1.shape:  (5682, 3)\n",
            "parameter_1[0]:  [1096.99 1103.15 1096.99]\n",
            "norm_parameter_1[0]:  [0.13534313 0.1402456  0.13534313]\n",
            "====================================================================================================\n",
            "parameter_2.shape:  (5682, 3)\n",
            "parameter_2[0]:  [969.5 971.  969.5]\n",
            "norm_parameter_2[0]:  [0.06389776 0.065267   0.06389776]\n",
            "====================================================================================================\n",
            "parameter_3.shape:  (5682, 3)\n",
            "parameter_3[0]:  [1610.4  1636.87 1609.92]\n",
            "norm_parameter_3[0]:  [0.1465763  0.15981594 0.14633622]\n",
            "====================================================================================================\n",
            "target_price.shape:  (5682, 3)\n",
            "target_price[0]:  [8.0108 8.1045 7.937 ]\n",
            "norm_target_price[0]:  [0.0640474  0.07446442 0.05584275]\n",
            "====================================================================================================\n",
            "result.shape:  (5682, 1)\n",
            "result[0]:  [7.9938]\n",
            "norm_result[0]:  [0.06072038]\n",
            "====================================================================================================\n",
            "x.shape:  (5682, 13)\n",
            "x[0]:  [0.13534313 0.1402456  0.13534313 0.06389776 0.065267   0.06389776\n",
            " 0.1465763  0.15981594 0.14633622 0.0640474  0.07446442 0.05584275\n",
            " 0.06072038]\n",
            "x[-1]:  [0.32305354 0.33180794 0.32594249 0.27657691 0.28545869 0.27657691\n",
            " 0.07051968 0.08450458 0.07018456 0.42719763 0.44107216 0.42708646\n",
            " 0.44232354]\n",
            "====================================================================================================\n",
            "y[0]:  [0.06072038]\n",
            "y[-1]:  [0.44232354]\n"
          ],
          "name": "stdout"
        }
      ]
    },
    {
      "cell_type": "code",
      "metadata": {
        "id": "kTU1gVOJW9E-",
        "colab_type": "code",
        "outputId": "2954f926-04a6-4143-8a5c-5aabccdda963",
        "colab": {
          "base_uri": "https://localhost:8080/",
          "height": 1000
        }
      },
      "source": [
        "dataX = [] # 입력으로 사용될 Sequence Data\n",
        "dataY = [] # 출력(타켓)으로 사용\n",
        " \n",
        "for i in range(0, len(y) - seq_length):\n",
        "    _x = x[i : i+seq_length]\n",
        "    _y = y[i + seq_length] # 다음 나타날 환율\n",
        "    if i is 0:\n",
        "        print(_x, \"->\", _y) # 첫번째 행만 출력\n",
        "    dataX.append(_x) # dataX 리스트에 추가\n",
        "    dataY.append(_y) # dataY 리스트에 추가"
      ],
      "execution_count": 0,
      "outputs": [
        {
          "output_type": "stream",
          "text": [
            "[[0.13534313 0.1402456  0.13534313 0.06389776 0.065267   0.06389776\n",
            "  0.1465763  0.15981594 0.14633622 0.0640474  0.07446442 0.05584275\n",
            "  0.06072038]\n",
            " [0.13421302 0.13824005 0.13421302 0.06800548 0.06809676 0.04974897\n",
            "  0.15088781 0.15882059 0.13747312 0.0617461  0.06758274 0.03745456\n",
            "  0.04716672]\n",
            " [0.14580067 0.14984361 0.14580067 0.0616157  0.06782291 0.0616157\n",
            "  0.14741159 0.16090632 0.14477567 0.05157367 0.06291343 0.04068972\n",
            "  0.04794606]\n",
            " [0.15132391 0.15180142 0.15132391 0.06353263 0.069466   0.06353263\n",
            "  0.15305857 0.16806382 0.15185315 0.04892773 0.05883334 0.04638184\n",
            "  0.05141353]\n",
            " [0.15884474 0.16382679 0.15884474 0.07348243 0.07841168 0.07348243\n",
            "  0.1651478  0.17626669 0.16310709 0.05242971 0.06348042 0.04479205\n",
            "  0.04797994]\n",
            " [0.17889233 0.18093768 0.17889233 0.07530808 0.09274304 0.07530808\n",
            "  0.16262692 0.18873606 0.16038113 0.05371933 0.07289686 0.04856085\n",
            "  0.06309227]\n",
            " [0.16811645 0.17350439 0.16811645 0.09164765 0.09164765 0.07804655\n",
            "  0.18554994 0.19438804 0.17424098 0.06272443 0.06905024 0.04290209\n",
            "  0.05345788]\n",
            " [0.16506037 0.17004242 0.16506037 0.08352351 0.08471018 0.08169785\n",
            "  0.18134847 0.19329265 0.17877257 0.05208507 0.05902233 0.03776584\n",
            "  0.04159843]\n",
            " [0.15921083 0.16325377 0.15921083 0.07713373 0.0846189  0.07713373\n",
            "  0.17957285 0.18635522 0.16397239 0.03506431 0.05694338 0.03404151\n",
            "  0.04500943]\n",
            " [0.15636963 0.16131189 0.15636963 0.0798722  0.08443633 0.0798722\n",
            "  0.17616166 0.18440954 0.16462262 0.0425241  0.05431967 0.03207373\n",
            "  0.04682788]\n",
            " [0.17691065 0.1816619  0.17691065 0.08261068 0.10415335 0.08261068\n",
            "  0.17531636 0.20169059 0.17167008 0.04483652 0.08170185 0.0385663\n",
            "  0.06609666]\n",
            " [0.18226675 0.18722493 0.18226675 0.10798722 0.10798722 0.10543131\n",
            "  0.20050018 0.20528685 0.1948432  0.06195733 0.07572069 0.05998955\n",
            "  0.06679693]\n",
            " [0.1992503  0.20421644 0.1992503  0.11455956 0.12733911 0.11455956\n",
            "  0.19585355 0.22202271 0.1948432  0.06326919 0.08853906 0.06179057\n",
            "  0.07806905]\n",
            " [0.29568408 0.29590692 0.29568408 0.14650844 0.21862163 0.14650844\n",
            "  0.2120092  0.30929825 0.21071875 0.07446442 0.17943501 0.07389743\n",
            "  0.17961982]\n",
            " [0.21584389 0.22034843 0.21584389 0.18712916 0.19443177 0.1195801\n",
            "  0.3022908  0.30824789 0.20759766 0.17883467 0.18337057 0.07851116\n",
            "  0.10029705]\n",
            " [0.2417251  0.24420816 0.2417251  0.15335463 0.20356002 0.1122775\n",
            "  0.22897514 0.29009653 0.20278598 0.09683265 0.1581674  0.06860554\n",
            "  0.12200549]\n",
            " [0.27230981 0.27297833 0.27230981 0.19694204 0.20607029 0.18324966\n",
            "  0.25433902 0.29254239 0.25336368 0.11924535 0.15925691 0.11783344\n",
            "  0.15323537]\n",
            " [0.25523872 0.25546156 0.25523872 0.18302145 0.20401643 0.18302145\n",
            "  0.28208373 0.28375932 0.26294203 0.15211953 0.15538805 0.12997365\n",
            "  0.14489987]\n",
            " [0.26097683 0.2617329  0.26097683 0.18347786 0.20127796 0.18347786\n",
            "  0.27015455 0.27928275 0.26173161 0.14383706 0.15460983 0.13577694\n",
            "  0.15385658]\n",
            " [0.30706481 0.30753436 0.30706481 0.20766773 0.24874487 0.20766773\n",
            "  0.27679188 0.32966538 0.27634672 0.15339803 0.19461028 0.15108561\n",
            "  0.19082417]\n",
            " [0.31145793 0.3145936  0.31145793 0.24509356 0.26335007 0.24052944\n",
            "  0.33025059 0.34132446 0.31844646 0.19208662 0.20407119 0.18270353\n",
            "  0.19860623]\n",
            " [0.35111539 0.35160086 0.35111539 0.26973984 0.34732999 0.26973984\n",
            "  0.34871205 0.42146251 0.34512579 0.20692837 0.27790192 0.20085826\n",
            "  0.23633057]\n",
            " [0.32575944 0.32801967 0.32575944 0.33546326 0.35828389 0.23048836\n",
            "  0.37328065 0.42750963 0.308583   0.23447731 0.29109829 0.16631647\n",
            "  0.207642  ]\n",
            " [0.2975623  0.29802389 0.2975623  0.20584208 0.26061159 0.20584208\n",
            "  0.34674136 0.34744661 0.28755064 0.20468265 0.20651702 0.14299214\n",
            "  0.17320442]\n",
            " [0.34809114 0.35054238 0.34809114 0.22638065 0.30579644 0.22638065\n",
            "  0.31015355 0.36836393 0.29235232 0.17279792 0.23667856 0.15491\n",
            "  0.22471961]\n",
            " [0.44464429 0.44518547 0.44464429 0.30168873 0.40429028 0.30168873\n",
            "  0.36007603 0.4551393  0.35762017 0.22588355 0.32204916 0.22120312\n",
            "  0.32057783]\n",
            " [0.55068404 0.55126501 0.55068404 0.50251027 0.51684162 0.50251027\n",
            "  0.53703796 0.55394888 0.53254139 0.40918742 0.43255622 0.40777551\n",
            "  0.43378474]\n",
            " [0.64211984 0.64274857 0.64211984 0.45686901 0.60830671 0.45686901\n",
            "  0.55203821 0.63576252 0.49698895 0.42883189 0.53032273 0.37626877\n",
            "  0.52411985]\n",
            " [0.79936491 0.79970713 0.79936491 0.72158832 0.74879051 0.72158832\n",
            "  0.63145601 0.76868404 0.63145601 0.51828258 0.66015186 0.51754883\n",
            "  0.65417847]\n",
            " [0.77536192 0.77825883 0.77536192 0.64171611 0.8334094  0.64171611\n",
            "  0.76756365 0.84369529 0.66715851 0.64703331 0.72284294 0.54090651\n",
            "  0.64170911]\n",
            " [0.64409356 0.64472229 0.64409356 0.63943405 0.71154724 0.60648106\n",
            "  0.74934727 0.7508478  0.61533537 0.63166905 0.6324028  0.49431344\n",
            "  0.50746015]\n",
            " [0.51753667 0.52075192 0.51753667 0.41396623 0.50524874 0.39570972\n",
            "  0.61807633 0.62127745 0.4274196  0.5018844  0.50547532 0.30061479\n",
            "  0.39031139]\n",
            " [0.57332612 0.57568185 0.57332612 0.46325879 0.57279781 0.46325879\n",
            "  0.50597709 0.59558345 0.49008653 0.38379526 0.51899409 0.36055987\n",
            "  0.47623027]\n",
            " [0.57473478 0.57709847 0.57473478 0.5326335  0.5326335  0.5326335\n",
            "  0.5637173  0.57753214 0.56149652 0.46786512 0.47468009 0.44487431\n",
            "  0.45911878]\n",
            " [0.65361199 0.65867363 0.65361199 0.5070744  0.70789594 0.5070744\n",
            "  0.57416096 0.73492222 0.54683139 0.45376824 0.61606021 0.41442372\n",
            "  0.53386719]] -> [0.64187853]\n"
          ],
          "name": "stdout"
        }
      ]
    },
    {
      "cell_type": "code",
      "metadata": {
        "id": "NbgKOsd6XBrh",
        "colab_type": "code",
        "colab": {}
      },
      "source": [
        "# 전체 데이타셋 중 70% 훈련용 데이터로 사용 \n",
        "train_size = int(len(dataY) * 0.70) \n",
        "\n",
        "# 나머지(30%)를 테스트용 데이터로 사용 \n",
        "test_size = len(dataY) - train_size \n",
        "\n",
        "# 데이터를 잘라 학습용 데이터 생성\n",
        "trainX = np.array(dataX[0:train_size])\n",
        "trainY = np.array(dataY[0:train_size])\n",
        " \n",
        "# 데이터를 잘라 테스트용 데이터 생성\n",
        "testX = np.array(dataX[train_size:len(dataX)])\n",
        "testY = np.array(dataY[train_size:len(dataY)])"
      ],
      "execution_count": 0,
      "outputs": []
    },
    {
      "cell_type": "code",
      "metadata": {
        "id": "YhUU0G5KXDnL",
        "colab_type": "code",
        "outputId": "0b7f4e72-6d68-4213-fa73-21bd4f7ebdb3",
        "colab": {
          "base_uri": "https://localhost:8080/",
          "height": 85
        }
      },
      "source": [
        "X = tf.placeholder(tf.float32, [None, seq_length, input_data_column_cnt])\n",
        "print(\"X: \", X)\n",
        "Y = tf.placeholder(tf.float32, [None, 1])\n",
        "print(\"Y: \", Y)\n",
        " \n",
        "# 검증용 측정지표를 산출하기 위한 targets, predictions를 생성\n",
        "targets = tf.placeholder(tf.float32, [None, 1])\n",
        "print(\"targets: \", targets)\n",
        " \n",
        "predictions = tf.placeholder(tf.float32, [None, 1])\n",
        "print(\"predictions: \", predictions)"
      ],
      "execution_count": 0,
      "outputs": [
        {
          "output_type": "stream",
          "text": [
            "X:  Tensor(\"Placeholder:0\", shape=(?, 35, 13), dtype=float32)\n",
            "Y:  Tensor(\"Placeholder_1:0\", shape=(?, 1), dtype=float32)\n",
            "targets:  Tensor(\"Placeholder_2:0\", shape=(?, 1), dtype=float32)\n",
            "predictions:  Tensor(\"Placeholder_3:0\", shape=(?, 1), dtype=float32)\n"
          ],
          "name": "stdout"
        }
      ]
    },
    {
      "cell_type": "code",
      "metadata": {
        "id": "tmNgLRAVXIaS",
        "colab_type": "code",
        "outputId": "66e650bb-95ea-4a32-ed3a-999991790fd7",
        "colab": {
          "base_uri": "https://localhost:8080/",
          "height": 462
        }
      },
      "source": [
        "def lstm_cell():\n",
        "    # LSTM셀을 생성\n",
        "    # num_units: 각 Cell 출력 크기\n",
        "    # forget_bias:  to the biases of the forget gate \n",
        "    #              (default: 1)  in order to reduce the scale of forgetting in the beginning of the training.\n",
        "    # state_is_tuple: True ==> accepted and returned states are 2-tuples of the c_state and m_state.\n",
        "    # state_is_tuple: False ==> they are concatenated along the column axis.\n",
        "    cell = tf.contrib.rnn.BasicLSTMCell(num_units=rnn_cell_hidden_dim, \n",
        "                                        forget_bias=forget_bias, state_is_tuple=True, activation=tf.nn.softsign)\n",
        "    if keep_prob < 1.0:\n",
        "        cell = tf.contrib.rnn.DropoutWrapper(cell, output_keep_prob=keep_prob)\n",
        "    return cell\n",
        "\n",
        "#num_stacked_layers개의 층으로 쌓인 Stacked RNNs 생성\n",
        "stackedRNNs = [lstm_cell() for _ in range(num_stacked_layers)]\n",
        "multi_cells = tf.contrib.rnn.MultiRNNCell(stackedRNNs, state_is_tuple=True) if num_stacked_layers > 1 else lstm_cell()\n",
        "\n",
        "#LSTM셀들을 연결\n",
        "hypothesis, _states = tf.nn.dynamic_rnn(multi_cells, X, dtype=tf.float32)\n",
        "print(\"hypothesis: \", hypothesis)\n",
        " \n",
        "# LSTM RNN의 마지막 (hidden)출력만을 사용 => hypothesis[:, -1]\n",
        "# 과거의 환율 데이터셋을 이용해서 다음날의 환율 1개를 예측 => MANY-TO-ONE형태\n",
        "hypothesis = tf.contrib.layers.fully_connected(hypothesis[:, -1], output_data_column_cnt, activation_fn=tf.identity)"
      ],
      "execution_count": 0,
      "outputs": [
        {
          "output_type": "stream",
          "text": [
            "WARNING: Logging before flag parsing goes to stderr.\n",
            "W0826 05:11:58.095491 140005362091904 lazy_loader.py:50] \n",
            "The TensorFlow contrib module will not be included in TensorFlow 2.0.\n",
            "For more information, please see:\n",
            "  * https://github.com/tensorflow/community/blob/master/rfcs/20180907-contrib-sunset.md\n",
            "  * https://github.com/tensorflow/addons\n",
            "  * https://github.com/tensorflow/io (for I/O related ops)\n",
            "If you depend on functionality not listed there, please file an issue.\n",
            "\n",
            "W0826 05:11:58.096889 140005362091904 deprecation.py:323] From <ipython-input-12-da9a0a0ec41b>:9: BasicLSTMCell.__init__ (from tensorflow.python.ops.rnn_cell_impl) is deprecated and will be removed in a future version.\n",
            "Instructions for updating:\n",
            "This class is equivalent as tf.keras.layers.LSTMCell, and will be replaced by that in Tensorflow 2.0.\n",
            "W0826 05:11:58.099908 140005362091904 deprecation.py:323] From <ipython-input-12-da9a0a0ec41b>:16: MultiRNNCell.__init__ (from tensorflow.python.ops.rnn_cell_impl) is deprecated and will be removed in a future version.\n",
            "Instructions for updating:\n",
            "This class is equivalent as tf.keras.layers.StackedRNNCells, and will be replaced by that in Tensorflow 2.0.\n",
            "W0826 05:11:58.103473 140005362091904 deprecation.py:323] From <ipython-input-12-da9a0a0ec41b>:19: dynamic_rnn (from tensorflow.python.ops.rnn) is deprecated and will be removed in a future version.\n",
            "Instructions for updating:\n",
            "Please use `keras.layers.RNN(cell)`, which is equivalent to this API\n",
            "W0826 05:11:58.579575 140005362091904 deprecation.py:506] From /usr/local/lib/python3.6/dist-packages/tensorflow/python/ops/init_ops.py:1251: calling VarianceScaling.__init__ (from tensorflow.python.ops.init_ops) with dtype is deprecated and will be removed in a future version.\n",
            "Instructions for updating:\n",
            "Call initializer instance with the dtype argument instead of passing it to the constructor\n",
            "W0826 05:11:58.594260 140005362091904 deprecation.py:506] From /usr/local/lib/python3.6/dist-packages/tensorflow/python/ops/rnn_cell_impl.py:738: calling Zeros.__init__ (from tensorflow.python.ops.init_ops) with dtype is deprecated and will be removed in a future version.\n",
            "Instructions for updating:\n",
            "Call initializer instance with the dtype argument instead of passing it to the constructor\n"
          ],
          "name": "stderr"
        },
        {
          "output_type": "stream",
          "text": [
            "hypothesis:  Tensor(\"rnn/transpose_1:0\", shape=(?, 35, 20), dtype=float32)\n"
          ],
          "name": "stdout"
        }
      ]
    },
    {
      "cell_type": "code",
      "metadata": {
        "id": "5EqxrMjSqFMV",
        "colab_type": "code",
        "colab": {}
      },
      "source": [
        "# 손실함수_ 평균제곱오차\n",
        "loss = tf.reduce_sum(tf.square(hypothesis - Y))\n",
        "# 최적화함수_ AdamOptimizer\n",
        "optimizer = tf.train.AdamOptimizer(learning_rate)\n",
        " \n",
        "train = optimizer.minimize(loss)\n",
        " \n",
        "# RMSE(Root Mean Square Error)\n",
        "rmse = tf.sqrt(tf.reduce_mean(tf.squared_difference(targets, predictions)))"
      ],
      "execution_count": 0,
      "outputs": []
    },
    {
      "cell_type": "code",
      "metadata": {
        "id": "B_PDBQC8qH2G",
        "colab_type": "code",
        "colab": {}
      },
      "source": [
        "train_error_summary = [] # 학습용 데이터 오류 기록\n",
        "test_error_summary = []  # 테스트용 데이터 오류 기록\n",
        "test_predict = ''        # 테스트용데이터로 예측한 결과\n",
        " \n",
        "sess = tf.Session()\n",
        "sess.run(tf.global_variables_initializer())"
      ],
      "execution_count": 0,
      "outputs": []
    },
    {
      "cell_type": "code",
      "metadata": {
        "id": "z8eqTDLXqJ5Q",
        "colab_type": "code",
        "outputId": "95b0d57c-5ef8-4a3a-9ea5-b0eca2ddb3d8",
        "colab": {
          "base_uri": "https://localhost:8080/",
          "height": 258
        }
      },
      "source": [
        "# 학습\n",
        "start_time = datetime.datetime.now() # 시작시간을 기록\n",
        "print('학습을 시작합니다...')\n",
        "for epoch in range(epoch_num):\n",
        "    _, _loss = sess.run([train, loss], feed_dict={X: trainX, Y: trainY})\n",
        "    if ((epoch+1) % 100 == 0) or (epoch == epoch_num-1): # 100번째마다 또는 마지막 epoch인 경우\n",
        "        # rmse오차 (학습용데이터)\n",
        "        train_predict = sess.run(hypothesis, feed_dict={X: trainX})\n",
        "        train_error = sess.run(rmse, feed_dict={targets: trainY, predictions: train_predict})\n",
        "        train_error_summary.append(train_error)\n",
        " \n",
        "        # rmse오차 (테스트용데이터)\n",
        "        test_predict = sess.run(hypothesis, feed_dict={X: testX})\n",
        "        test_error = sess.run(rmse, feed_dict={targets: testY, predictions: test_predict})\n",
        "        test_error_summary.append(test_error)\n",
        "        \n",
        "        # 현재 오류 출력\n",
        "        print(\"epoch: {}, train_error(A): {}, test_error(B): {}, B-A: {}\".format(epoch+1, train_error, test_error, test_error-train_error))\n",
        "        \n",
        "end_time = datetime.datetime.now() # 종료시간을 기록한다\n",
        "elapsed_time = end_time - start_time # 경과시간을 구한다\n",
        "print('elapsed_time:',elapsed_time)\n",
        "print('elapsed_time per epoch:',elapsed_time/epoch_num)"
      ],
      "execution_count": 0,
      "outputs": [
        {
          "output_type": "stream",
          "text": [
            "학습을 시작합니다...\n",
            "epoch: 100, train_error(A): 0.032666873186826706, test_error(B): 0.03121050074696541, B-A: -0.0014563724398612976\n",
            "epoch: 200, train_error(A): 0.028806272894144058, test_error(B): 0.02344428561627865, B-A: -0.00536198727786541\n",
            "epoch: 300, train_error(A): 0.025645267218351364, test_error(B): 0.017000816762447357, B-A: -0.008644450455904007\n",
            "epoch: 400, train_error(A): 0.022946540266275406, test_error(B): 0.013964736834168434, B-A: -0.008981803432106972\n",
            "epoch: 500, train_error(A): 0.02087000571191311, test_error(B): 0.016360877081751823, B-A: -0.004509128630161285\n",
            "epoch: 600, train_error(A): 0.01661701314151287, test_error(B): 0.0112546281889081, B-A: -0.005362384952604771\n",
            "epoch: 700, train_error(A): 0.01609085313975811, test_error(B): 0.010443389415740967, B-A: -0.005647463724017143\n",
            "epoch: 800, train_error(A): 0.01540670171380043, test_error(B): 0.009934207424521446, B-A: -0.005472494289278984\n",
            "epoch: 900, train_error(A): 0.015519610606133938, test_error(B): 0.01113487221300602, B-A: -0.004384738393127918\n",
            "epoch: 1000, train_error(A): 0.014830273576080799, test_error(B): 0.009699344635009766, B-A: -0.0051309289410710335\n",
            "elapsed_time: 0:11:15.504353\n",
            "elapsed_time per epoch: 0:00:00.675504\n"
          ],
          "name": "stdout"
        }
      ]
    },
    {
      "cell_type": "code",
      "metadata": {
        "id": "JwwKOQhgqL4P",
        "colab_type": "code",
        "outputId": "7604aeb8-5988-4c17-d036-bd8a4c71c705",
        "colab": {
          "base_uri": "https://localhost:8080/",
          "height": 586
        }
      },
      "source": [
        "# 하이퍼파라미터 출력\n",
        "print('input_data_column_cnt:', input_data_column_cnt, end='')\n",
        "print('output_data_column_cnt:', output_data_column_cnt, end='')\n",
        "print('seq_length:', seq_length, end='')\n",
        "print('rnn_cell_hidden_dim:', rnn_cell_hidden_dim, end='')\n",
        "print('forget_bias:', forget_bias, end='')\n",
        "print('num_stacked_layers:', num_stacked_layers, end='')\n",
        "print('keep_prob:', keep_prob, end='')\n",
        "print('epoch_num:', epoch_num, end='')\n",
        "print('learning_rate:', learning_rate, end='')\n",
        "print('train_error:', train_error_summary[-1], end='')\n",
        "print('test_error:', test_error_summary[-1], end='')\n",
        "print('min_test_error:', np.min(test_error_summary))\n",
        "\n",
        "# 결과 그래프 출력\n",
        "plt.figure(1)\n",
        "plt.plot(train_error_summary, 'gold')\n",
        "plt.plot(test_error_summary, 'b')\n",
        "plt.xlabel('Epoch(x100)')\n",
        "plt.ylabel('Root Mean Square Error')\n",
        " \n",
        "plt.figure(2)\n",
        "plt.plot(testY, 'r')\n",
        "plt.plot(test_predict, 'b')\n",
        "plt.xlabel('Time Period')\n",
        "plt.ylabel('FX/KRW')\n",
        "plt.show()"
      ],
      "execution_count": 0,
      "outputs": [
        {
          "output_type": "stream",
          "text": [
            "input_data_column_cnt: 13output_data_column_cnt: 1seq_length: 35rnn_cell_hidden_dim: 20forget_bias: 1.0num_stacked_layers: 4keep_prob: 1.0epoch_num: 1000learning_rate: 0.01train_error: 0.014830274test_error: 0.009699345min_test_error: 0.009699345\n"
          ],
          "name": "stdout"
        },
        {
          "output_type": "display_data",
          "data": {
            "image/png": "[encoded data removed]",
            "text/plain": [
              "<Figure size 432x288 with 1 Axes>"
            ]
          },
          "metadata": {
            "tags": []
          }
        },
        {
          "output_type": "display_data",
          "data": {
            "image/png": "[encoded data removed]",
            "text/plain": [
              "<Figure size 432x288 with 1 Axes>"
            ]
          },
          "metadata": {
            "tags": []
          }
        }
      ]
    },
    {
      "cell_type": "code",
      "metadata": {
        "id": "0zIWGnSuvnBC",
        "colab_type": "code",
        "outputId": "bc36f068-22ae-4006-b5a6-bd263b6f6649",
        "colab": {
          "base_uri": "https://localhost:8080/",
          "height": 1000
        }
      },
      "source": [
        "# sequence length만큼의 가장 최근 데이터를 슬라이싱\n",
        "recent_data = np.array([x[len(x)-seq_length : ]])\n",
        "print(\"recent_data.shape:\", recent_data.shape)\n",
        "print(\"recent_data:\", recent_data)\n",
        " \n",
        "# 내일 환율을 예측\n",
        "test_predict = sess.run(hypothesis, feed_dict={X: recent_data})\n",
        " \n",
        "print(\"test_predict\", test_predict[0])\n",
        "test_predict = reverse_min_max_scaling(target_price,test_predict) # target_price 역정규화\n",
        "print()\n",
        "print(\"19.08.23 FX/KRW Prediction\", test_predict[0]) # 예측 환율을 출력"
      ],
      "execution_count": 0,
      "outputs": [
        {
          "output_type": "stream",
          "text": [
            "recent_data.shape: (1, 35, 13)\n",
            "recent_data: [[[0.31119529 0.31425934 0.30883956 0.24488361 0.25210406 0.24430853\n",
            "   0.07573651 0.07855249 0.07383584 0.37759174 0.38111596 0.37332266\n",
            "   0.38141116]\n",
            "  [0.31232541 0.31932893 0.31185585 0.2519215  0.2588042  0.25148334\n",
            "   0.07718702 0.08252889 0.07683189 0.37862566 0.387653   0.37706922\n",
            "   0.38464144]\n",
            "  [0.31643998 0.31893897 0.31425138 0.25688727 0.26076677 0.25480602\n",
            "   0.08026309 0.08097334 0.07681188 0.38099367 0.38422884 0.37735828\n",
            "   0.38554502]\n",
            "  [0.31772927 0.31912997 0.31474481 0.25898676 0.25920584 0.25202191\n",
            "   0.07888761 0.07967789 0.07594658 0.38178301 0.38218323 0.37698028\n",
            "   0.3830376 ]\n",
            "  [0.31572371 0.3188753  0.31289047 0.25291648 0.25497033 0.24749429\n",
            "   0.07673686 0.0797279  0.07484119 0.37951505 0.38580751 0.37660229\n",
            "   0.38123044]\n",
            "  [0.31492786 0.32160508 0.31379774 0.25162939 0.25675034 0.25075308\n",
            "   0.07688691 0.0825589  0.07623168 0.37764733 0.38850904 0.37624654\n",
            "   0.39017585]\n",
            "  [0.3180874  0.32291824 0.31770539 0.25392971 0.25862163 0.25361022\n",
            "   0.08147352 0.08433952 0.07935778 0.38678584 0.39255578 0.38577416\n",
            "   0.3932932 ]\n",
            "  [0.31948811 0.32170854 0.31324064 0.25589229 0.25811045 0.25257873\n",
            "   0.07980293 0.08117341 0.07160506 0.38896485 0.39158856 0.38198312\n",
            "   0.38877531]\n",
            "  [0.31476868 0.31885938 0.31344757 0.25577362 0.25883158 0.25413053\n",
            "   0.07303056 0.0768619  0.07232031 0.38496259 0.38965413 0.38367297\n",
            "   0.39318025]\n",
            "  [0.317013   0.32185975 0.31225378 0.25661342 0.26017344 0.24943861\n",
            "   0.07526134 0.07873756 0.07244035 0.38950961 0.39648022 0.38518493\n",
            "   0.39241221]\n",
            "  [0.31484827 0.31659915 0.3097548  0.24945687 0.25332725 0.24727522\n",
            "   0.07700695 0.07918271 0.07416096 0.38863133 0.39026559 0.38296145\n",
            "   0.39107943]\n",
            "  [0.31231745 0.31592267 0.31113163 0.25249658 0.25595618 0.25166591\n",
            "   0.07697694 0.07952283 0.07410594 0.38665243 0.39115498 0.38378414\n",
            "   0.39005161]\n",
            "  [0.31224582 0.31441851 0.3085053  0.25319032 0.25705157 0.25216796\n",
            "   0.0754214  0.07760216 0.0734307  0.38630779 0.38845345 0.38408431\n",
            "   0.38909156]\n",
            "  [0.30939666 0.31039148 0.30489212 0.25595618 0.25732542 0.25294386\n",
            "   0.0751313  0.07889261 0.0728555  0.38549622 0.38733059 0.38298369\n",
            "   0.38812022]\n",
            "  [0.30706481 0.3145538  0.30455786 0.25459607 0.2611319  0.25403925\n",
            "   0.0768619  0.08020807 0.07569649 0.38441783 0.39032118 0.38096032\n",
            "   0.3890012 ]\n",
            "  [0.31281088 0.31572371 0.3087759  0.25984482 0.26254678 0.25769055\n",
            "   0.07911269 0.08071325 0.07354074 0.38528499 0.3880977  0.38117155\n",
            "   0.38863977]\n",
            "  [0.31093266 0.31336798 0.30875202 0.25979918 0.26198996 0.25677773\n",
            "   0.07479118 0.07548142 0.06437753 0.38468465 0.38866468 0.38257234\n",
            "   0.38684391]\n",
            "  [0.31164097 0.3125005  0.30772537 0.25873117 0.25990872 0.2547969\n",
            "   0.06406742 0.06478768 0.05668984 0.38238335 0.38469577 0.37908148\n",
            "   0.38645989]\n",
            "  [0.31176831 0.31421159 0.30617345 0.25790963 0.26479233 0.2563487\n",
            "   0.05973591 0.06594308 0.05880058 0.38345062 0.38982089 0.38137166\n",
            "   0.39197171]\n",
            "  [0.30979459 0.31983032 0.30572777 0.26364217 0.27277042 0.26196257\n",
            "   0.06378232 0.06985945 0.05931576 0.3882311  0.41451266 0.38124937\n",
            "   0.41666196]\n",
            "  [0.31695729 0.32960343 0.31339186 0.270178   0.2807759  0.26599726\n",
            "   0.0665583  0.07553644 0.06248687 0.41157767 0.43323438 0.40797563\n",
            "   0.43423653]\n",
            "  [0.32740687 0.35175208 0.32561619 0.27961661 0.29373802 0.27704245\n",
            "   0.07328065 0.08366428 0.07211524 0.43099978 0.45518015 0.42779797\n",
            "   0.45656618]\n",
            "  [0.34855274 0.355222   0.33970283 0.29103606 0.29359197 0.28315838\n",
            "   0.08106337 0.08422948 0.07576152 0.45191163 0.45860432 0.43029939\n",
            "   0.44491003]\n",
            "  [0.34314092 0.35335174 0.34144575 0.28578731 0.29237791 0.28447284\n",
            "   0.07908268 0.08326414 0.07701195 0.43941566 0.4578928  0.43931561\n",
            "   0.44701085]\n",
            "  [0.34419145 0.34740671 0.33667062 0.28696486 0.28945687 0.2800639\n",
            "   0.07826239 0.08016306 0.07224529 0.44329564 0.44890993 0.43612491\n",
            "   0.44418717]\n",
            "  [0.3373073  0.34945205 0.33686958 0.2816796  0.29026016 0.28083067\n",
            "   0.07380083 0.07691192 0.07128495 0.43961578 0.45912683 0.43926002\n",
            "   0.4558659 ]\n",
            "  [0.34497139 0.3528026  0.34400045 0.28774076 0.2936011  0.28722045\n",
            "   0.0728455  0.07965288 0.07096484 0.45217845 0.46515247 0.45048861\n",
            "   0.46545512]\n",
            "  [0.35029566 0.35693309 0.33448998 0.29177544 0.29708809 0.27979005\n",
            "   0.07737708 0.08188866 0.06795879 0.46051651 0.46866557 0.42902088\n",
            "   0.43459796]\n",
            "  [0.33496749 0.34483609 0.33486403 0.28036513 0.29201278 0.27996349\n",
            "   0.06894913 0.07726204 0.06846896 0.4301771  0.45563597 0.43004369\n",
            "   0.45561742]\n",
            "  [0.34109557 0.34513852 0.33342353 0.2896942  0.2923414  0.28589685\n",
            "   0.0751513  0.0802881  0.07350073 0.45085548 0.45583608 0.43805934\n",
            "   0.44916814]\n",
            "  [0.33482424 0.33748239 0.32529785 0.28647193 0.28918302 0.27932451\n",
            "   0.07454109 0.07790727 0.0734157  0.44450744 0.44870982 0.4336902\n",
            "   0.44097947]\n",
            "  [0.32908612 0.33373391 0.32870411 0.28205386 0.2873665  0.28205386\n",
            "   0.0754314  0.07915771 0.07291552 0.43703654 0.4425063  0.43325662\n",
            "   0.44224448]\n",
            "  [0.33144981 0.33390104 0.32527397 0.28582382 0.28735737 0.27978092\n",
            "   0.07662682 0.07807233 0.06965938 0.43763688 0.44023835 0.43283416\n",
            "   0.44052768]\n",
            "  [0.32811518 0.33122697 0.32203484 0.28014605 0.28376084 0.27384756\n",
            "   0.07538138 0.07769719 0.06958435 0.43604709 0.43882644 0.42546331\n",
            "   0.43158227]\n",
            "  [0.32305354 0.33180794 0.32594249 0.27657691 0.28545869 0.27657691\n",
            "   0.07051968 0.08450458 0.07018456 0.42719763 0.44107216 0.42708646\n",
            "   0.44232354]]]\n",
            "test_predict [0.4490071]\n",
            "\n",
            "19.08.23 FX/KRW Prediction [11.4734745]\n"
          ],
          "name": "stdout"
        }
      ]
    },
    {
      "cell_type": "code",
      "metadata": {
        "id": "--cOT-05vqEI",
        "colab_type": "code",
        "colab": {}
      },
      "source": [
        ""
      ],
      "execution_count": 0,
      "outputs": []
    }
  ]
}